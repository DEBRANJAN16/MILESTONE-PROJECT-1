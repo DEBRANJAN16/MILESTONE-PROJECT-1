{
 "cells": [
  {
   "cell_type": "markdown",
   "id": "260b07ff-5df8-4d83-83de-f6799b5c2a3a",
   "metadata": {},
   "source": [
    "# WARMUP PROJECT EXERCISES:::--->.\n",
    "\n",
    "    ~ We are almost ready for you to begin creating a full, interactive Python program.\n",
    "\n",
    "    ~ For your upcoming milestone project you will be creating a full interactive TIC TAC TOE game. !!\n",
    "\n",
    "    ~ In order to \"warmup\" for this project, we're going to code with a few exercises in order for you to see how to use the python code to the following:\n",
    "\n",
    "            * Grab user input\n",
    "            * Manipulate a variable based on input\n",
    "            * return beack adjusted variable.\n",
    "\n",
    "    ~ Most programmers that are interactive work on this very simple idea.\n",
    "\n",
    "            * Display something visual to the user\n",
    "            * Let the user update through an interaction\n",
    "            * Update variables in the program\n",
    "            * Display updated visuals.\n",
    "\n",
    "    ~ In the next series of lectures, we will guide you through examples of how to perform these tasks with python.\n",
    "\n",
    "    ~ Keep in mind there are many different ways of performing the same task, so dont feel restricted by the examples we show here."
   ]
  },
  {
   "cell_type": "markdown",
   "id": "f1c540bd-839f-4b15-aa84-15700e27bb20",
   "metadata": {},
   "source": [
    "# Displaying information (we were going to learn here is how to combine a custom function by using a def call along with the already built in print function in order to show something to the user to actuallu display like a board game for instance.)\n"
   ]
  },
  {
   "cell_type": "code",
   "execution_count": 1,
   "id": "b8c39f27-db56-4621-87e7-c13d36faf882",
   "metadata": {},
   "outputs": [
    {
     "name": "stdout",
     "output_type": "stream",
     "text": [
      "[1, 2, 3]\n"
     ]
    }
   ],
   "source": [
    "print([1,2,3])"
   ]
  },
  {
   "cell_type": "code",
   "execution_count": 2,
   "id": "bb2d728e-58a4-4cb0-a911-c5a927b721c2",
   "metadata": {},
   "outputs": [
    {
     "name": "stdout",
     "output_type": "stream",
     "text": [
      "[1, 2, 3]\n",
      "a b c\n"
     ]
    }
   ],
   "source": [
    "print([1,2,3])\n",
    "print('a','b','c')"
   ]
  },
  {
   "cell_type": "code",
   "execution_count": 3,
   "id": "0c7e5aa0-d6a6-43fb-ac9c-39762e76275b",
   "metadata": {},
   "outputs": [
    {
     "name": "stdout",
     "output_type": "stream",
     "text": [
      "[1, 2, 3]\n",
      "[4, 5, 6]\n",
      "[7, 8, 9]\n"
     ]
    }
   ],
   "source": [
    "print([1,2,3])\n",
    "print([4,5,6])\n",
    "print([7,8,9])\n",
    "     "
   ]
  },
  {
   "cell_type": "code",
   "execution_count": 4,
   "id": "9da45bc9-0faf-4f5e-bbb7-238516527842",
   "metadata": {},
   "outputs": [],
   "source": [
    "def display(row1,row2,row3):\n",
    "    print(row1)\n",
    "    print(row2)\n",
    "    print(row3)"
   ]
  },
  {
   "cell_type": "code",
   "execution_count": 5,
   "id": "c4ce4720-18f1-46a0-acd5-d5b4f28c3ad1",
   "metadata": {},
   "outputs": [
    {
     "name": "stdout",
     "output_type": "stream",
     "text": [
      "[1, 2, 3]\n",
      "[1, 2, 3]\n",
      "[1, 2, 3]\n"
     ]
    }
   ],
   "source": [
    "example_row = [1,2,3]\n",
    "\n",
    "display(example_row,example_row,example_row)"
   ]
  },
  {
   "cell_type": "code",
   "execution_count": 10,
   "id": "96d0405f-05f4-470c-9498-b04b1aa23ed6",
   "metadata": {},
   "outputs": [],
   "source": [
    "# displaying the unique set of boards\n",
    "\n",
    "row1 = [' ',' ',' ']\n",
    "row2 = [' ',' ',' ']\n",
    "row3 = [' ',' ',' ']\n"
   ]
  },
  {
   "cell_type": "code",
   "execution_count": 11,
   "id": "c3f0c743-88b0-4f24-9ea8-0231ad5e1adf",
   "metadata": {},
   "outputs": [
    {
     "name": "stdout",
     "output_type": "stream",
     "text": [
      "[' ', ' ', ' ']\n",
      "[' ', ' ', ' ']\n",
      "[' ', ' ', ' ']\n"
     ]
    }
   ],
   "source": [
    "display(row1,row2,row3)"
   ]
  },
  {
   "cell_type": "code",
   "execution_count": 13,
   "id": "25177c09-9bfe-4ab7-9425-a058ce6de423",
   "metadata": {},
   "outputs": [],
   "source": [
    "row2[1] = 'X'"
   ]
  },
  {
   "cell_type": "code",
   "execution_count": 14,
   "id": "b022962d-669d-4f95-a5eb-07eeea8fa19a",
   "metadata": {},
   "outputs": [
    {
     "name": "stdout",
     "output_type": "stream",
     "text": [
      "[' ', ' ', ' ']\n",
      "[' ', 'X', ' ']\n",
      "[' ', ' ', ' ']\n"
     ]
    }
   ],
   "source": [
    "display(row1,row2,row3)"
   ]
  },
  {
   "cell_type": "code",
   "execution_count": 15,
   "id": "e6d64b91-7b4d-4aa6-8395-3a5450fe556e",
   "metadata": {},
   "outputs": [],
   "source": [
    "# we could do is we can use the user input function to ask the user to chose tha row where they can put the X or O in the TIC TAC TOE board"
   ]
  },
  {
   "cell_type": "markdown",
   "id": "4596154d-e29a-4183-b6cc-a81f54a905e6",
   "metadata": {},
   "source": [
    "# Accepting the user input:--->"
   ]
  },
  {
   "cell_type": "code",
   "execution_count": 16,
   "id": "4a445d24-3aea-4102-be3e-57a7e93f56ab",
   "metadata": {},
   "outputs": [
    {
     "name": "stdin",
     "output_type": "stream",
     "text": [
      "Please eneter a value:  2\n"
     ]
    },
    {
     "data": {
      "text/plain": [
       "'2'"
      ]
     },
     "execution_count": 16,
     "metadata": {},
     "output_type": "execute_result"
    }
   ],
   "source": [
    "input('Please eneter a value: ')"
   ]
  },
  {
   "cell_type": "code",
   "execution_count": 17,
   "id": "f924f79d-1660-49c6-b575-3f9fd23d0d36",
   "metadata": {},
   "outputs": [
    {
     "name": "stdin",
     "output_type": "stream",
     "text": [
      "Please enter a value:  2\n"
     ]
    }
   ],
   "source": [
    "# isntead of displaying these we can also do is save that output as a result\n",
    "\n",
    "result = input('Please enter a value: ')"
   ]
  },
  {
   "cell_type": "code",
   "execution_count": 18,
   "id": "85a51694-1b18-485b-80b0-b15379eec99e",
   "metadata": {},
   "outputs": [
    {
     "data": {
      "text/plain": [
       "'2'"
      ]
     },
     "execution_count": 18,
     "metadata": {},
     "output_type": "execute_result"
    }
   ],
   "source": [
    "result"
   ]
  },
  {
   "cell_type": "code",
   "execution_count": 19,
   "id": "cfb5201f-1096-4309-b8e3-f543c91924ec",
   "metadata": {},
   "outputs": [
    {
     "data": {
      "text/plain": [
       "str"
      ]
     },
     "execution_count": 19,
     "metadata": {},
     "output_type": "execute_result"
    }
   ],
   "source": [
    "type(result)"
   ]
  },
  {
   "cell_type": "code",
   "execution_count": 20,
   "id": "61991334-4c1e-4655-bc9d-83449e173e06",
   "metadata": {},
   "outputs": [
    {
     "name": "stdin",
     "output_type": "stream",
     "text": [
      "Enter value:  2\n"
     ]
    }
   ],
   "source": [
    "result = input(\"Enter value: \")"
   ]
  },
  {
   "cell_type": "code",
   "execution_count": 21,
   "id": "c6502dc1-024f-462d-82c1-2fdcccdd577e",
   "metadata": {},
   "outputs": [],
   "source": [
    "# Once we have the result we can convert it into a interger with the (int) built-in module\n",
    "\n",
    "result_int = int(result)"
   ]
  },
  {
   "cell_type": "code",
   "execution_count": 22,
   "id": "ccfd465a-8b13-4ec2-9ce8-8a53fcafa356",
   "metadata": {},
   "outputs": [
    {
     "data": {
      "text/plain": [
       "str"
      ]
     },
     "execution_count": 22,
     "metadata": {},
     "output_type": "execute_result"
    }
   ],
   "source": [
    "type(result)\n"
   ]
  },
  {
   "cell_type": "code",
   "execution_count": 23,
   "id": "f57086e8-0774-449f-8467-19894c6333f8",
   "metadata": {},
   "outputs": [
    {
     "data": {
      "text/plain": [
       "int"
      ]
     },
     "execution_count": 23,
     "metadata": {},
     "output_type": "execute_result"
    }
   ],
   "source": [
    "type(result_int)"
   ]
  },
  {
   "cell_type": "code",
   "execution_count": 24,
   "id": "77fe1c2c-2e64-4df9-885e-9d61d6ee8451",
   "metadata": {},
   "outputs": [
    {
     "name": "stdin",
     "output_type": "stream",
     "text": [
      "Choose an index position:  2\n"
     ]
    }
   ],
   "source": [
    "# convert the string into an integer\n",
    "\n",
    "position_index = int(input(\"Choose an index position: \"))"
   ]
  },
  {
   "cell_type": "code",
   "execution_count": 25,
   "id": "1842e33c-fc56-4942-babe-f8146a301d45",
   "metadata": {},
   "outputs": [
    {
     "data": {
      "text/plain": [
       "int"
      ]
     },
     "execution_count": 25,
     "metadata": {},
     "output_type": "execute_result"
    }
   ],
   "source": [
    "type(position_index)"
   ]
  },
  {
   "cell_type": "code",
   "execution_count": 26,
   "id": "9fb202c5-d08d-4ca0-af3b-884b258c8a28",
   "metadata": {},
   "outputs": [
    {
     "data": {
      "text/plain": [
       "' '"
      ]
     },
     "execution_count": 26,
     "metadata": {},
     "output_type": "execute_result"
    }
   ],
   "source": [
    "row2[position_index]"
   ]
  },
  {
   "cell_type": "markdown",
   "id": "35ce9119-562e-4900-98d4-56f946d41bbf",
   "metadata": {},
   "source": [
    "Note: If we are using some sort of conversion such as trying to convert an input into an integer there has to be a legitimate input, Which essentially means something that looks like a normal integer that just have to be wrapped in quotes as a string."
   ]
  },
  {
   "cell_type": "markdown",
   "id": "8d9fae73-1018-41ab-9176-43155813b931",
   "metadata": {},
   "source": [
    "Note: The input function itself can be more tricky because it awaits a user interaction which means if we accidentally run it twice, Our python program or script make it stuck waiting for reply that doesn't come.\n",
    "\n",
    "             * Showing how that looks like:-"
   ]
  },
  {
   "cell_type": "code",
   "execution_count": 27,
   "id": "76b8ca29-3a49-4df8-a385-b3549cdc1188",
   "metadata": {},
   "outputs": [
    {
     "name": "stdin",
     "output_type": "stream",
     "text": [
      "Enter a number:  2\n"
     ]
    }
   ],
   "source": [
    "result = input(\"Enter a number: \")"
   ]
  },
  {
   "cell_type": "code",
   "execution_count": 28,
   "id": "a08271ca-92b9-4b2e-abd1-639cb3b5f915",
   "metadata": {},
   "outputs": [
    {
     "name": "stdin",
     "output_type": "stream",
     "text": [
      "Enter a number 2\n"
     ]
    },
    {
     "data": {
      "text/plain": [
       "'2'"
      ]
     },
     "execution_count": 28,
     "metadata": {},
     "output_type": "execute_result"
    }
   ],
   "source": [
    "input(\"Enter a number\")"
   ]
  },
  {
   "cell_type": "code",
   "execution_count": 29,
   "id": "d683d714-c39e-4187-be14-5b4e32b4d06c",
   "metadata": {},
   "outputs": [
    {
     "data": {
      "text/plain": [
       "4"
      ]
     },
     "execution_count": 29,
     "metadata": {},
     "output_type": "execute_result"
    }
   ],
   "source": [
    "2+2"
   ]
  },
  {
   "cell_type": "markdown",
   "id": "e6191797-060f-4964-895d-21824d3ebac0",
   "metadata": {},
   "source": [
    "# The cell has not been executed to avoid kernel deadlock as there is another pending input! Submit your pending input and try again."
   ]
  },
  {
   "cell_type": "markdown",
   "id": "6e70b892-0252-4d18-9c92-be6753abd679",
   "metadata": {},
   "source": [
    "* Tackling some kind of error of avoiding kernal deadlock: should doo go to kernal and hit on interrupt sometime the interuppt doesn't work,if interuppt doesn't work we could do is go with the restart button, It will restar the kernal and you may have to run some ceels again."
   ]
  },
  {
   "cell_type": "markdown",
   "id": "ad10294a-70f9-4ec9-9e41-d818631ca778",
   "metadata": {},
   "source": [
    "# Validating the user input:--->\n",
    "\n",
    "  * We have already seen how to use input() to interact with a user and how to convert the string data type into another type, such as an integer.\n",
    "\n",
    "  * Let's now explore how to further validate user input to avoid errors for invalid conversions.\n",
    "\n",
    "                ~ We are going to do is use a while loop along with checking for the data type in order not have the value error occur when we type [{two} instead of typing 2].and keep asking the user for another input.\n",
    "\n",
    "        In order to do these the first thing i wanna do is basically take all we have here through the input function and make it in our own custom function"
   ]
  },
  {
   "cell_type": "code",
   "execution_count": 32,
   "id": "4ff394b5-4aec-432b-a5f0-439484b8e394",
   "metadata": {},
   "outputs": [],
   "source": [
    "def user_choice():\n",
    "\n",
    "    choice = input(\"Please enter a number (0-10): \")\n",
    "# not doing any sort o check that python knows that the number is in the range or not\n",
    "    return int(choice)"
   ]
  },
  {
   "cell_type": "code",
   "execution_count": 33,
   "id": "31903a9e-548b-49f9-add1-68d0346f569e",
   "metadata": {},
   "outputs": [
    {
     "name": "stdin",
     "output_type": "stream",
     "text": [
      "Please enter a number (0-10):  3\n"
     ]
    },
    {
     "data": {
      "text/plain": [
       "3"
      ]
     },
     "execution_count": 33,
     "metadata": {},
     "output_type": "execute_result"
    }
   ],
   "source": [
    "user_choice()"
   ]
  },
  {
   "cell_type": "code",
   "execution_count": 34,
   "id": "ce3f398e-ef46-4757-b06a-bc1bd261e556",
   "metadata": {},
   "outputs": [
    {
     "name": "stdin",
     "output_type": "stream",
     "text": [
      "Please enter a number (0-10):  nine\n"
     ]
    },
    {
     "ename": "ValueError",
     "evalue": "invalid literal for int() with base 10: 'nine'",
     "output_type": "error",
     "traceback": [
      "\u001b[1;31m---------------------------------------------------------------------------\u001b[0m",
      "\u001b[1;31mValueError\u001b[0m                                Traceback (most recent call last)",
      "Cell \u001b[1;32mIn[34], line 3\u001b[0m\n\u001b[0;32m      1\u001b[0m \u001b[38;5;66;03m# another problem is when we put the string number instead of the orignat integer..it will return the value error\u001b[39;00m\n\u001b[1;32m----> 3\u001b[0m user_choice()\n",
      "Cell \u001b[1;32mIn[32], line 5\u001b[0m, in \u001b[0;36muser_choice\u001b[1;34m()\u001b[0m\n\u001b[0;32m      3\u001b[0m     choice \u001b[38;5;241m=\u001b[39m \u001b[38;5;28minput\u001b[39m(\u001b[38;5;124m\"\u001b[39m\u001b[38;5;124mPlease enter a number (0-10): \u001b[39m\u001b[38;5;124m\"\u001b[39m)\n\u001b[0;32m      4\u001b[0m \u001b[38;5;66;03m# not doing any sort o check that python knows that the number is in the range or not\u001b[39;00m\n\u001b[1;32m----> 5\u001b[0m     \u001b[38;5;28;01mreturn\u001b[39;00m \u001b[38;5;28mint\u001b[39m(choice)\n",
      "\u001b[1;31mValueError\u001b[0m: invalid literal for int() with base 10: 'nine'"
     ]
    }
   ],
   "source": [
    "# another problem is when we put the string number instead of the orignat integer..it will return the value error\n",
    "\n",
    "user_choice()"
   ]
  },
  {
   "cell_type": "code",
   "execution_count": null,
   "id": "dee5eb1e-2601-45af-899f-e2fc5b69b961",
   "metadata": {},
   "outputs": [],
   "source": []
  },
  {
   "cell_type": "code",
   "execution_count": null,
   "id": "a3972b51-d299-4396-a3e6-306b760dca29",
   "metadata": {},
   "outputs": [],
   "source": []
  },
  {
   "cell_type": "code",
   "execution_count": null,
   "id": "4aee178e-0db4-40f4-9f0d-1e46e7916bdc",
   "metadata": {},
   "outputs": [],
   "source": []
  }
 ],
 "metadata": {
  "kernelspec": {
   "display_name": "Python 3 (ipykernel)",
   "language": "python",
   "name": "python3"
  },
  "language_info": {
   "codemirror_mode": {
    "name": "ipython",
    "version": 3
   },
   "file_extension": ".py",
   "mimetype": "text/x-python",
   "name": "python",
   "nbconvert_exporter": "python",
   "pygments_lexer": "ipython3",
   "version": "3.11.7"
  }
 },
 "nbformat": 4,
 "nbformat_minor": 5
}
